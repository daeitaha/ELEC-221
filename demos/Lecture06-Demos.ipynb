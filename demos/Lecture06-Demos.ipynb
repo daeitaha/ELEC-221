{
 "cells": [
  {
   "cell_type": "markdown",
   "id": "42a30a4e-07e6-4d6d-83f2-68e8e6ac1516",
   "metadata": {},
   "source": [
    "# Lecture 06 Demos"
   ]
  },
  {
   "cell_type": "code",
   "execution_count": null,
   "id": "7a170da0-b225-49d8-8581-6b72fe7c7107",
   "metadata": {},
   "outputs": [],
   "source": [
    "import numpy as np\n",
    "import matplotlib.pyplot as plt"
   ]
  },
  {
   "cell_type": "markdown",
   "id": "9e591415-ae3a-410e-a3e0-a8054bd4a06f",
   "metadata": {},
   "source": [
    "## Demo 1: sigma approximation and the Gibbs phenomenon"
   ]
  },
  {
   "cell_type": "code",
   "execution_count": null,
   "id": "523080a2-27df-43d4-9b4f-2603dbcb24e1",
   "metadata": {},
   "outputs": [],
   "source": [
    "tone = 65           # A frequency in Hz\n",
    "duration = 2         # The length of the audio signal (in seconds)\n",
    "sample_rate = 48000  # The number of samples per second to take\n",
    "t_range = np.linspace(0, duration, sample_rate * duration) # Range of time"
   ]
  },
  {
   "cell_type": "code",
   "execution_count": null,
   "id": "7d81d2a7-59a7-43db-beec-75cb2c1d0401",
   "metadata": {},
   "outputs": [],
   "source": [
    "def square_wave_coefficients(k):\n",
    "    return (k % 2) * 4 / (k * np.pi)\n",
    "\n",
    "def square_wave_truncated(t, freq, max_k):\n",
    "    return np.sum([\n",
    "        square_wave_coefficients(k) * np.sin(2 * np.pi * freq * k * t) for k in range(1, max_k+1)\n",
    "    ])\n",
    "\n",
    "truncated_square_wave = np.array([square_wave_truncated(t, tone, 50) for t in t_range])"
   ]
  },
  {
   "cell_type": "code",
   "execution_count": null,
   "id": "1dc1e70f-7190-4f62-baf2-5faf8ee250f0",
   "metadata": {},
   "outputs": [],
   "source": [
    "plt.figure(figsize=(10, 5))\n",
    "plt.plot(t_range[:1000], truncated_square_wave[:1000])"
   ]
  },
  {
   "cell_type": "code",
   "execution_count": null,
   "id": "5b47c6ab-0a3c-4cfd-8814-e549b023b4e0",
   "metadata": {},
   "outputs": [],
   "source": [
    "def sigma_approximation(t, freq, max_k):\n",
    "    return np.sum([\n",
    "        np.sinc(k / (max_k+1)) * square_wave_coefficients(k) * np.sin(2 * np.pi * freq * k * t) \n",
    "        for k in range(1, max_k+1)\n",
    "    ])\n",
    "\n",
    "sigma_square_wave = np.array([sigma_approximation(t, tone, 50) for t in t_range])"
   ]
  },
  {
   "cell_type": "code",
   "execution_count": null,
   "id": "acb0b36f-76e9-400e-84c1-5c631f8dd784",
   "metadata": {},
   "outputs": [],
   "source": [
    "plt.figure(figsize=(10, 5))\n",
    "plt.plot(t_range[:1000], sigma_square_wave[:1000])"
   ]
  },
  {
   "cell_type": "markdown",
   "id": "1b4c8e1a-30ee-40ee-808c-3ebfcb2eacfd",
   "metadata": {},
   "source": [
    "## Demo 2: DT IIR filter"
   ]
  },
  {
   "cell_type": "code",
   "execution_count": null,
   "id": "a743a5da-f8e0-40ed-9fd1-42b9092c3d3f",
   "metadata": {},
   "outputs": [],
   "source": [
    "def iir_frequency_response(ω, a):\n",
    "    # Frequency response for a filter described by the difference\n",
    "    # equation y[n] - a y[n-1] = x[j]\n",
    "    return 1 / (1 - a * np.exp(-1j * ω))"
   ]
  },
  {
   "cell_type": "code",
   "execution_count": null,
   "id": "7540c799-fae5-40d8-8131-0e9d1bb95cc6",
   "metadata": {},
   "outputs": [],
   "source": [
    "a = 0.6\n",
    "ω_range = np.linspace(-2*np.pi, 2*np.pi, 1000)\n",
    "h_jω = np.array([iir_frequency_response(ω, a) for ω in ω_range])"
   ]
  },
  {
   "cell_type": "code",
   "execution_count": null,
   "id": "5a52097d-5605-4f2b-8569-b94ab226ded4",
   "metadata": {},
   "outputs": [],
   "source": [
    "plt.plot(ω_range, np.abs(h_jω))\n",
    "plt.xlabel(\"ω\", fontsize=14)\n",
    "plt.ylabel(\"|H(jω)|\", fontsize=14)"
   ]
  },
  {
   "cell_type": "code",
   "execution_count": null,
   "id": "c275c5aa-e52a-48b7-a538-f2daee3c64eb",
   "metadata": {},
   "outputs": [],
   "source": [
    "plt.plot(ω_range, np.angle(h_jω))\n",
    "plt.xlabel(\"ω\", fontsize=14)\n",
    "plt.ylabel(\"Phase(H(jω))\", fontsize=14)"
   ]
  },
  {
   "cell_type": "markdown",
   "id": "3880b1f3-dabc-405a-91c8-20258ba86c5b",
   "metadata": {},
   "source": [
    "## Demo 3: frequency response of the moving average filter"
   ]
  },
  {
   "cell_type": "code",
   "execution_count": null,
   "id": "b634c522-2d5f-4fbe-93af-24bf93e23100",
   "metadata": {},
   "outputs": [],
   "source": [
    "def frequency_response(ω, M):\n",
    "    return np.sum([np.exp(-1j * ω * k) for k in range(-M, M+1)]) / (2 * M + 1)"
   ]
  },
  {
   "cell_type": "code",
   "execution_count": null,
   "id": "ad06f8fe-a5c0-4856-b86f-49f256f06600",
   "metadata": {},
   "outputs": [],
   "source": [
    "M = 3\n",
    "ω_range = np.linspace(-2*np.pi, 2*np.pi, 1000)\n",
    "h_jω = np.array([frequency_response(ω, M) for ω in ω_range])"
   ]
  },
  {
   "cell_type": "code",
   "execution_count": null,
   "id": "2fdf0d2f-b884-4929-9c80-60f1cb0093a1",
   "metadata": {},
   "outputs": [],
   "source": [
    "plt.plot(ω_range, np.abs(h_jω))"
   ]
  },
  {
   "cell_type": "code",
   "execution_count": null,
   "id": "4aa24532-fde6-4d50-bd00-da74af4a8a6b",
   "metadata": {},
   "outputs": [],
   "source": []
  }
 ],
 "metadata": {
  "kernelspec": {
   "display_name": "Python 3 (ipykernel)",
   "language": "python",
   "name": "python3"
  },
  "language_info": {
   "codemirror_mode": {
    "name": "ipython",
    "version": 3
   },
   "file_extension": ".py",
   "mimetype": "text/x-python",
   "name": "python",
   "nbconvert_exporter": "python",
   "pygments_lexer": "ipython3",
   "version": "3.9.7"
  }
 },
 "nbformat": 4,
 "nbformat_minor": 5
}
